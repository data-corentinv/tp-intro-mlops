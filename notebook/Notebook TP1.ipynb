{
 "cells": [
  {
   "cell_type": "code",
   "execution_count": 6,
   "id": "2a5fb373",
   "metadata": {},
   "outputs": [],
   "source": [
    "import pandas as pd\n",
    "import os"
   ]
  },
  {
   "cell_type": "code",
   "execution_count": 7,
   "id": "e376a57b",
   "metadata": {},
   "outputs": [],
   "source": [
    "def extract(data_dir, prefix, start_week, end_week):\n",
    "    \"\"\" Extract a temporal slice of data for a given data source.\n",
    "    \n",
    "    Parameters\n",
    "    ----------\n",
    "    data_dir: str\n",
    "        Data directory path.\n",
    "    start_week: int\n",
    "        First week number (included)\n",
    "    end_week: int\n",
    "        Last week number (included)\n",
    "    prefix: str\n",
    "        Data source identification (e.g. restaurant_1)\n",
    "    \"\"\"\n",
    "    df = pd.DataFrame()\n",
    "    \n",
    "    for i in range(start_week, end_week+1):\n",
    "        file_path = os.path.join(data_dir, 'data', f'{prefix}_week_{i}.csv')\n",
    "\n",
    "        if os.path.isfile(file_path):\n",
    "            batch = pd.read_csv(file_path)\n",
    "            df = pd.concat([df, batch], sort=True)\n",
    "    \n",
    "    return df"
   ]
  },
  {
   "cell_type": "code",
   "execution_count": 12,
   "id": "01521860",
   "metadata": {},
   "outputs": [],
   "source": [
    "df = extract(data_dir= \"/Users/CORENTIN/data-corentinv/tp-intro-mlops\",\n",
    "       prefix=\"restaurant_1\" , start_week=108, end_week=110)"
   ]
  },
  {
   "cell_type": "code",
   "execution_count": 13,
   "id": "0d8a043b",
   "metadata": {},
   "outputs": [
    {
     "data": {
      "text/html": [
       "<div>\n",
       "<style scoped>\n",
       "    .dataframe tbody tr th:only-of-type {\n",
       "        vertical-align: middle;\n",
       "    }\n",
       "\n",
       "    .dataframe tbody tr th {\n",
       "        vertical-align: top;\n",
       "    }\n",
       "\n",
       "    .dataframe thead th {\n",
       "        text-align: right;\n",
       "    }\n",
       "</style>\n",
       "<table border=\"1\" class=\"dataframe\">\n",
       "  <thead>\n",
       "    <tr style=\"text-align: right;\">\n",
       "      <th></th>\n",
       "      <th>Item Name</th>\n",
       "      <th>Order Date</th>\n",
       "      <th>Order Number</th>\n",
       "      <th>Product Price</th>\n",
       "      <th>Quantity</th>\n",
       "      <th>Total products</th>\n",
       "    </tr>\n",
       "  </thead>\n",
       "  <tbody>\n",
       "    <tr>\n",
       "      <th>0</th>\n",
       "      <td>Mango Chutney</td>\n",
       "      <td>2017-01-28 19:14:00</td>\n",
       "      <td>4416</td>\n",
       "      <td>0.5</td>\n",
       "      <td>3</td>\n",
       "      <td>4</td>\n",
       "    </tr>\n",
       "    <tr>\n",
       "      <th>1</th>\n",
       "      <td>Mango Chutney</td>\n",
       "      <td>2017-01-28 18:41:00</td>\n",
       "      <td>4414</td>\n",
       "      <td>0.5</td>\n",
       "      <td>1</td>\n",
       "      <td>13</td>\n",
       "    </tr>\n",
       "    <tr>\n",
       "      <th>2</th>\n",
       "      <td>Mint Sauce</td>\n",
       "      <td>2017-01-28 18:41:00</td>\n",
       "      <td>4414</td>\n",
       "      <td>0.5</td>\n",
       "      <td>1</td>\n",
       "      <td>13</td>\n",
       "    </tr>\n",
       "    <tr>\n",
       "      <th>3</th>\n",
       "      <td>Mango Chutney</td>\n",
       "      <td>2017-01-28 18:28:00</td>\n",
       "      <td>4413</td>\n",
       "      <td>0.5</td>\n",
       "      <td>1</td>\n",
       "      <td>6</td>\n",
       "    </tr>\n",
       "    <tr>\n",
       "      <th>4</th>\n",
       "      <td>Mango Chutney</td>\n",
       "      <td>2017-01-28 12:32:00</td>\n",
       "      <td>4402</td>\n",
       "      <td>0.5</td>\n",
       "      <td>1</td>\n",
       "      <td>10</td>\n",
       "    </tr>\n",
       "  </tbody>\n",
       "</table>\n",
       "</div>"
      ],
      "text/plain": [
       "       Item Name           Order Date  Order Number  Product Price  Quantity  \\\n",
       "0  Mango Chutney  2017-01-28 19:14:00          4416            0.5         3   \n",
       "1  Mango Chutney  2017-01-28 18:41:00          4414            0.5         1   \n",
       "2     Mint Sauce  2017-01-28 18:41:00          4414            0.5         1   \n",
       "3  Mango Chutney  2017-01-28 18:28:00          4413            0.5         1   \n",
       "4  Mango Chutney  2017-01-28 12:32:00          4402            0.5         1   \n",
       "\n",
       "   Total products  \n",
       "0               4  \n",
       "1              13  \n",
       "2              13  \n",
       "3               6  \n",
       "4              10  "
      ]
     },
     "execution_count": 13,
     "metadata": {},
     "output_type": "execute_result"
    }
   ],
   "source": [
    "df.head()"
   ]
  },
  {
   "cell_type": "code",
   "execution_count": null,
   "id": "2ee2dfc3",
   "metadata": {},
   "outputs": [],
   "source": []
  }
 ],
 "metadata": {
  "kernelspec": {
   "display_name": "Python 3 (ipykernel)",
   "language": "python",
   "name": "python3"
  },
  "language_info": {
   "codemirror_mode": {
    "name": "ipython",
    "version": 3
   },
   "file_extension": ".py",
   "mimetype": "text/x-python",
   "name": "python",
   "nbconvert_exporter": "python",
   "pygments_lexer": "ipython3",
   "version": "3.9.10"
  }
 },
 "nbformat": 4,
 "nbformat_minor": 5
}
