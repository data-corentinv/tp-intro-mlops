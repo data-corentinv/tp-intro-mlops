{
 "cells": [
  {
   "cell_type": "code",
   "execution_count": 47,
   "id": "a1047741",
   "metadata": {},
   "outputs": [],
   "source": [
    "import pandas as pd\n",
    "import numpy as np\n",
    "import matplotlib.pyplot as plt\n",
    "import os"
   ]
  },
  {
   "cell_type": "code",
   "execution_count": 48,
   "id": "3f8212a2",
   "metadata": {},
   "outputs": [],
   "source": [
    "def extract(data_dir, prefix, start_week, end_week):\n",
    "    \"\"\" Extract a temporal slice of data for a given data source.\n",
    "    \n",
    "    Parameters\n",
    "    ----------\n",
    "    data_dir: str\n",
    "        Data directory path.\n",
    "    start_week: int\n",
    "        First week number (included)\n",
    "    end_week: int\n",
    "        Last week number (included)\n",
    "    prefix: str\n",
    "        Data source identification (e.g. restaurant_1)\n",
    "    \"\"\"\n",
    "    df = pd.DataFrame()\n",
    "    \n",
    "    for i in range(start_week, end_week+1):\n",
    "        file_path = os.path.join(data_dir, 'data', f'{prefix}_week_{i}.csv')\n",
    "\n",
    "        if os.path.isfile(file_path):\n",
    "            batch = pd.read_csv(file_path)\n",
    "            df = pd.concat([df, batch], sort=True)\n",
    "    \n",
    "    return df\n",
    "\n",
    "def clean(df):\n",
    "    \"\"\"Clean dataframe.\"\"\"\n",
    "    \n",
    "    df.columns = df.columns.str.lower().str.replace(' ', '_')\n",
    "    df['order_date'] = pd.to_datetime(df['order_date'])\n",
    "    df = df.rename(columns={'order_number': 'order_id'})\n",
    "    df = df.sort_values('order_date')\n",
    "    df['total_product_price'] = df['quantity'] * df['product_price']\n",
    "    df['cash_in'] = df.groupby('order_id')['total_product_price'].transform(np.sum)\n",
    "    df = df.drop(columns=['item_name', 'quantity', 'product_price', \n",
    "                          'total_products', 'total_product_price'],\n",
    "                errors=\"ignore\")\n",
    "    df = df.drop_duplicates()\n",
    "    df = df.reset_index(drop=True)\n",
    "    return df\n",
    "\n",
    "def merge(df1, df2):\n",
    "    df = pd.concat([df1, df2])\n",
    "    df = df.drop(columns = ['order_id'])\n",
    "    df = df.sort_values('order_date')\n",
    "    df = df.reset_index(drop=True)\n",
    "    return df\n",
    "\n",
    "def resample(df): \n",
    "    df = df.resample('1H', on='order_date').sum().reset_index()\n",
    "    return df"
   ]
  },
  {
   "cell_type": "code",
   "execution_count": 54,
   "id": "ccc034e2",
   "metadata": {},
   "outputs": [],
   "source": [
    "# Restaurant 1\n",
    "df1 = extract(data_dir= \"/Users/CORENTIN/data-corentinv/tp-intro-mlops\",\n",
    "       prefix=\"restaurant_1\" , start_week=108, end_week=110)\n",
    "df1 = clean(df1)"
   ]
  },
  {
   "cell_type": "code",
   "execution_count": 50,
   "id": "67dd5f59",
   "metadata": {},
   "outputs": [],
   "source": [
    "# Restaurant 2\n",
    "df2 = extract(data_dir= \"/Users/CORENTIN/data-corentinv/tp-intro-mlops\",\n",
    "       prefix=\"restaurant_2\" , start_week=108, end_week=110)\n",
    "df2 = clean(df2)"
   ]
  },
  {
   "cell_type": "code",
   "execution_count": 51,
   "id": "e2b63b63",
   "metadata": {},
   "outputs": [],
   "source": [
    "df = merge(df1, df2)\n",
    "df"
   ]
  },
  {
   "cell_type": "code",
   "execution_count": 52,
   "id": "d5f218e2",
   "metadata": {},
   "outputs": [
    {
     "data": {
      "text/html": [
       "<div>\n",
       "<style scoped>\n",
       "    .dataframe tbody tr th:only-of-type {\n",
       "        vertical-align: middle;\n",
       "    }\n",
       "\n",
       "    .dataframe tbody tr th {\n",
       "        vertical-align: top;\n",
       "    }\n",
       "\n",
       "    .dataframe thead th {\n",
       "        text-align: right;\n",
       "    }\n",
       "</style>\n",
       "<table border=\"1\" class=\"dataframe\">\n",
       "  <thead>\n",
       "    <tr style=\"text-align: right;\">\n",
       "      <th></th>\n",
       "      <th>order_date</th>\n",
       "      <th>cash_in</th>\n",
       "    </tr>\n",
       "  </thead>\n",
       "  <tbody>\n",
       "    <tr>\n",
       "      <th>0</th>\n",
       "      <td>2017-01-23 16:00:00</td>\n",
       "      <td>80.40</td>\n",
       "    </tr>\n",
       "    <tr>\n",
       "      <th>1</th>\n",
       "      <td>2017-01-23 17:00:00</td>\n",
       "      <td>66.70</td>\n",
       "    </tr>\n",
       "    <tr>\n",
       "      <th>2</th>\n",
       "      <td>2017-01-23 18:00:00</td>\n",
       "      <td>64.00</td>\n",
       "    </tr>\n",
       "    <tr>\n",
       "      <th>3</th>\n",
       "      <td>2017-01-23 19:00:00</td>\n",
       "      <td>219.05</td>\n",
       "    </tr>\n",
       "    <tr>\n",
       "      <th>4</th>\n",
       "      <td>2017-01-23 20:00:00</td>\n",
       "      <td>111.25</td>\n",
       "    </tr>\n",
       "  </tbody>\n",
       "</table>\n",
       "</div>"
      ],
      "text/plain": [
       "           order_date  cash_in\n",
       "0 2017-01-23 16:00:00    80.40\n",
       "1 2017-01-23 17:00:00    66.70\n",
       "2 2017-01-23 18:00:00    64.00\n",
       "3 2017-01-23 19:00:00   219.05\n",
       "4 2017-01-23 20:00:00   111.25"
      ]
     },
     "execution_count": 52,
     "metadata": {},
     "output_type": "execute_result"
    }
   ],
   "source": [
    "df = resample(df)\n",
    "df.head()"
   ]
  },
  {
   "cell_type": "code",
   "execution_count": 53,
   "id": "7deff3ca",
   "metadata": {},
   "outputs": [
    {
     "data": {
      "image/png": "[encoded data removed]",
      "text/plain": [
       "<Figure size 720x360 with 1 Axes>"
      ]
     },
     "metadata": {
      "needs_background": "light"
     },
     "output_type": "display_data"
    }
   ],
   "source": [
    "fig, ax = plt.subplots(1,1, figsize=(10,5))\n",
    "ax.plot(df['order_date'], df['cash_in'])\n",
    "ax.set_title('Chiffre d affaire des restaurants en fonction du temps')\n",
    "ax.set_xlabel('Temps')\n",
    "ax.set_ylabel('cash in')\n",
    "plt.grid(True)"
   ]
  },
  {
   "cell_type": "code",
   "execution_count": null,
   "id": "34a03207",
   "metadata": {},
   "outputs": [],
   "source": []
  }
 ],
 "metadata": {
  "kernelspec": {
   "display_name": "Python 3 (ipykernel)",
   "language": "python",
   "name": "python3"
  },
  "language_info": {
   "codemirror_mode": {
    "name": "ipython",
    "version": 3
   },
   "file_extension": ".py",
   "mimetype": "text/x-python",
   "name": "python",
   "nbconvert_exporter": "python",
   "pygments_lexer": "ipython3",
   "version": "3.9.10"
  }
 },
 "nbformat": 4,
 "nbformat_minor": 5
}
